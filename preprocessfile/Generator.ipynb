{
 "cells": [
  {
   "cell_type": "code",
   "execution_count": 19,
   "metadata": {},
   "outputs": [
    {
     "name": "stdout",
     "output_type": "stream",
     "text": [
      "(1640, 25260)\n"
     ]
    },
    {
     "name": "stderr",
     "output_type": "stream",
     "text": [
      "C:\\Users\\Sanjit Dasgupta\\Anaconda3.0\\lib\\site-packages\\sklearn\\utils\\validation.py:475: DataConversionWarning: Data with input dtype int64 was converted to float64 by StandardScaler.\n",
      "  warnings.warn(msg, DataConversionWarning)\n"
     ]
    }
   ],
   "source": [
    "%matplotlib inline\n",
    "\n",
    "from collections import defaultdict\n",
    "import scipy\n",
    "import traceback\n",
    "import os\n",
    "import numpy as np\n",
    "import scipy\n",
    "import scipy.stats\n",
    "import scipy.io\n",
    "import matplotlib.pyplot as plt\n",
    "import sys\n",
    "import seaborn as sns; sns.set()  # for plot styling\n",
    "\n",
    "import sklearn.cluster\n",
    "from sklearn.decomposition import PCA,TruncatedSVD\n",
    "from sklearn.neighbors import NearestNeighbors\n",
    "from sklearn.preprocessing import StandardScaler\n",
    "from sklearn.cluster import KMeans\n",
    "from sklearn.manifold import TSNE\n",
    "\n",
    "\n",
    "#LOAD DATA\n",
    "# input_path = 'filtered_gene_bc_matrices/zv10_gtf89_cloche_gfp/'\n",
    "\n",
    "# if os.path.isfile(input_path + '/matrix.npz'):\n",
    "#     E = scipy.sparse.load_npz(input_path + '/matrix.npz')\n",
    "# else:\n",
    "#     E = scipy.io.mmread(input_path + '/matrix.mtx').T.tocsc()\n",
    "#     scipy.sparse.save_npz(input_path + '/matrix.npz', E, compressed=True)\n",
    "\n",
    "# print(E.shape)\n",
    "\n",
    "# # Convert to numpy array and standardize\n",
    "# X = E.toarray()\n",
    "# X = StandardScaler().fit_transform(X)\n"
   ]
  },
  {
   "cell_type": "code",
   "execution_count": 3,
   "metadata": {},
   "outputs": [],
   "source": [
    "def genPCA(E,n,k):\n",
    "    X = E.toarray()\n",
    "    X = StandardScaler().fit_transform(X)\n",
    "    \n",
    "    pca = PCA(n_components=n)\n",
    "    pca.fit(X)\n",
    "    X_pca = pca.transform(X)\n",
    "    print(\"original shape:   \", X.shape)\n",
    "    print(\"transformed shape:\", X_pca.shape)\n",
    "    kmeans = KMeans(n_clusters=k)\n",
    "    kmeans.fit(X_pca)\n",
    "    y_kmeans = kmeans.predict(X_pca)\n",
    "    plt.scatter(X_pca[:, 0], X_pca[:, 1], marker='.',alpha=0.8,c=y_kmeans, cmap='viridis')\n",
    "    name = 'PCA'+str(n)+'Kmeans'+str(k)\n",
    "    print(name)\n",
    "    plt.title(name)\n",
    "    plt.savefig('GeneratedPCA/'+name)\n",
    "    plt.show()\n",
    "    plt.close()\n",
    "    return [X_pca,pca.components_]"
   ]
  },
  {
   "cell_type": "code",
   "execution_count": 5,
   "metadata": {},
   "outputs": [],
   "source": [
    "def contributor(pca_comp, comp, cont):\n",
    "    p1 = np.fabs(pca_comp[comp])\n",
    "    cont = cont*-1\n",
    "    ind = np.argpartition(p1,cont)[cont:]\n",
    "    return ind"
   ]
  },
  {
   "cell_type": "code",
   "execution_count": 28,
   "metadata": {
    "scrolled": false
   },
   "outputs": [
    {
     "name": "stdout",
     "output_type": "stream",
     "text": [
      "original shape:    (1640, 25260)\n",
      "transformed shape: (1640, 20)\n",
      "PCA20Kmeans5\n",
      "original shape:    (1640, 25260)\n",
      "transformed shape: (1640, 30)\n",
      "PCA30Kmeans5\n",
      "original shape:    (1640, 25260)\n",
      "transformed shape: (1640, 40)\n",
      "PCA40Kmeans5\n",
      "original shape:    (1640, 25260)\n",
      "transformed shape: (1640, 50)\n",
      "PCA50Kmeans5\n",
      "original shape:    (1640, 25260)\n",
      "transformed shape: (1640, 60)\n",
      "PCA60Kmeans5\n"
     ]
    }
   ],
   "source": [
    "# genPCA(20,5)\n",
    "# genPCA(30,5)\n",
    "# genPCA(40,5)\n",
    "# genPCA(50,5)\n",
    "# genPCA(60,5)\n"
   ]
  },
  {
   "cell_type": "code",
   "execution_count": 16,
   "metadata": {},
   "outputs": [
    {
     "name": "stdout",
     "output_type": "stream",
     "text": [
      "original shape:    (1640, 25260)\n",
      "transformed shape: (1640, 20)\n"
     ]
    }
   ],
   "source": [
    "#TSNE\n",
    "# n = 20\n",
    "# k = 5\n",
    "# pca = PCA(n_components=n)\n",
    "# pca.fit(X)\n",
    "# X_pca = pca.transform(X)\n",
    "# print(\"original shape:   \", X.shape)\n",
    "# print(\"transformed shape:\", X_pca.shape)\n",
    "# kmeans = KMeans(n_clusters=k)\n",
    "# kmeans.fit(X_pca)\n",
    "# y_kmeans = kmeans.predict(X_pca)"
   ]
  },
  {
   "cell_type": "code",
   "execution_count": 2,
   "metadata": {},
   "outputs": [],
   "source": [
    "def genTSNE(X,k,p):\n",
    "    kmeans = KMeans(n_clusters=k)\n",
    "    kmeans.fit(X)\n",
    "    y_kmeans = kmeans.predict(X)\n",
    "    tsne = TSNE(n_components=2, verbose=1, perplexity=p, n_iter=300)\n",
    "    tsne_results = tsne.fit_transform(X)\n",
    "    plt.scatter(tsne_results[:,0], tsne_results[:,1], marker='.',alpha=0.6,c=y_kmeans, cmap='viridis')\n",
    "    name = 'PCA'+str(X.shape)+'Kmeans'+str(k)+'TSNE'+str(p)\n",
    "    print(name)\n",
    "    plt.title(name)\n",
    "    plt.show()\n",
    "    #plt.savefig('GeneratedTSNE/'+name)\n",
    "    plt.close()\n",
    "    return tsne_results\n"
   ]
  },
  {
   "cell_type": "code",
   "execution_count": 22,
   "metadata": {},
   "outputs": [
    {
     "name": "stdout",
     "output_type": "stream",
     "text": [
      "[t-SNE] Computing 16 nearest neighbors...\n",
      "[t-SNE] Indexed 1640 samples in 0.006s...\n",
      "[t-SNE] Computed neighbors for 1640 samples in 0.176s...\n",
      "[t-SNE] Computed conditional probabilities for sample 1000 / 1640\n",
      "[t-SNE] Computed conditional probabilities for sample 1640 / 1640\n",
      "[t-SNE] Mean sigma: 3.287556\n",
      "[t-SNE] KL divergence after 250 iterations with early exaggeration: 76.924911\n",
      "[t-SNE] Error after 300 iterations: 1.707518\n",
      "PCA20Kmeans5TSNE5\n"
     ]
    }
   ],
   "source": [
    "#genTSNE(5)"
   ]
  },
  {
   "cell_type": "code",
   "execution_count": 27,
   "metadata": {},
   "outputs": [
    {
     "name": "stdout",
     "output_type": "stream",
     "text": [
      "[t-SNE] Computing 226 nearest neighbors...\n",
      "[t-SNE] Indexed 1640 samples in 0.005s...\n",
      "[t-SNE] Computed neighbors for 1640 samples in 0.433s...\n",
      "[t-SNE] Computed conditional probabilities for sample 1000 / 1640\n",
      "[t-SNE] Computed conditional probabilities for sample 1640 / 1640\n",
      "[t-SNE] Mean sigma: 7.353365\n",
      "[t-SNE] KL divergence after 250 iterations with early exaggeration: 63.901028\n",
      "[t-SNE] Error after 300 iterations: 0.911473\n",
      "PCA20Kmeans5TSNE75\n",
      "[t-SNE] Computing 229 nearest neighbors...\n",
      "[t-SNE] Indexed 1640 samples in 0.000s...\n",
      "[t-SNE] Computed neighbors for 1640 samples in 0.394s...\n",
      "[t-SNE] Computed conditional probabilities for sample 1000 / 1640\n",
      "[t-SNE] Computed conditional probabilities for sample 1640 / 1640\n",
      "[t-SNE] Mean sigma: 7.376025\n",
      "[t-SNE] KL divergence after 250 iterations with early exaggeration: 64.185211\n",
      "[t-SNE] Error after 300 iterations: 1.007482\n",
      "PCA20Kmeans5TSNE76\n",
      "[t-SNE] Computing 232 nearest neighbors...\n",
      "[t-SNE] Indexed 1640 samples in 0.000s...\n",
      "[t-SNE] Computed neighbors for 1640 samples in 0.392s...\n",
      "[t-SNE] Computed conditional probabilities for sample 1000 / 1640\n",
      "[t-SNE] Computed conditional probabilities for sample 1640 / 1640\n",
      "[t-SNE] Mean sigma: 7.398388\n",
      "[t-SNE] KL divergence after 250 iterations with early exaggeration: 63.832722\n",
      "[t-SNE] Error after 300 iterations: 0.893107\n",
      "PCA20Kmeans5TSNE77\n",
      "[t-SNE] Computing 235 nearest neighbors...\n",
      "[t-SNE] Indexed 1640 samples in 0.000s...\n",
      "[t-SNE] Computed neighbors for 1640 samples in 0.408s...\n",
      "[t-SNE] Computed conditional probabilities for sample 1000 / 1640\n",
      "[t-SNE] Computed conditional probabilities for sample 1640 / 1640\n",
      "[t-SNE] Mean sigma: 7.420462\n",
      "[t-SNE] KL divergence after 250 iterations with early exaggeration: 63.016209\n",
      "[t-SNE] Error after 300 iterations: 0.890039\n",
      "PCA20Kmeans5TSNE78\n",
      "[t-SNE] Computing 238 nearest neighbors...\n",
      "[t-SNE] Indexed 1640 samples in 0.000s...\n",
      "[t-SNE] Computed neighbors for 1640 samples in 0.393s...\n",
      "[t-SNE] Computed conditional probabilities for sample 1000 / 1640\n",
      "[t-SNE] Computed conditional probabilities for sample 1640 / 1640\n",
      "[t-SNE] Mean sigma: 7.442263\n",
      "[t-SNE] KL divergence after 250 iterations with early exaggeration: 63.550007\n",
      "[t-SNE] Error after 300 iterations: 0.858740\n",
      "PCA20Kmeans5TSNE79\n",
      "[t-SNE] Computing 241 nearest neighbors...\n",
      "[t-SNE] Indexed 1640 samples in 0.016s...\n",
      "[t-SNE] Computed neighbors for 1640 samples in 0.393s...\n",
      "[t-SNE] Computed conditional probabilities for sample 1000 / 1640\n",
      "[t-SNE] Computed conditional probabilities for sample 1640 / 1640\n",
      "[t-SNE] Mean sigma: 7.463786\n",
      "[t-SNE] KL divergence after 250 iterations with early exaggeration: 63.263393\n",
      "[t-SNE] Error after 300 iterations: 0.876618\n",
      "PCA20Kmeans5TSNE80\n",
      "[t-SNE] Computing 244 nearest neighbors...\n",
      "[t-SNE] Indexed 1640 samples in 0.000s...\n",
      "[t-SNE] Computed neighbors for 1640 samples in 0.393s...\n",
      "[t-SNE] Computed conditional probabilities for sample 1000 / 1640\n",
      "[t-SNE] Computed conditional probabilities for sample 1640 / 1640\n",
      "[t-SNE] Mean sigma: 7.485038\n",
      "[t-SNE] KL divergence after 250 iterations with early exaggeration: 64.089256\n",
      "[t-SNE] Error after 300 iterations: 0.980175\n",
      "PCA20Kmeans5TSNE81\n",
      "[t-SNE] Computing 247 nearest neighbors...\n",
      "[t-SNE] Indexed 1640 samples in 0.016s...\n",
      "[t-SNE] Computed neighbors for 1640 samples in 0.394s...\n",
      "[t-SNE] Computed conditional probabilities for sample 1000 / 1640\n",
      "[t-SNE] Computed conditional probabilities for sample 1640 / 1640\n",
      "[t-SNE] Mean sigma: 7.506025\n",
      "[t-SNE] KL divergence after 250 iterations with early exaggeration: 62.521404\n",
      "[t-SNE] Error after 300 iterations: 0.908322\n",
      "PCA20Kmeans5TSNE82\n",
      "[t-SNE] Computing 250 nearest neighbors...\n",
      "[t-SNE] Indexed 1640 samples in 0.016s...\n",
      "[t-SNE] Computed neighbors for 1640 samples in 0.445s...\n",
      "[t-SNE] Computed conditional probabilities for sample 1000 / 1640\n",
      "[t-SNE] Computed conditional probabilities for sample 1640 / 1640\n",
      "[t-SNE] Mean sigma: 7.526763\n",
      "[t-SNE] KL divergence after 250 iterations with early exaggeration: 63.286232\n",
      "[t-SNE] Error after 300 iterations: 0.856566\n",
      "PCA20Kmeans5TSNE83\n",
      "[t-SNE] Computing 253 nearest neighbors...\n",
      "[t-SNE] Indexed 1640 samples in 0.000s...\n",
      "[t-SNE] Computed neighbors for 1640 samples in 0.419s...\n",
      "[t-SNE] Computed conditional probabilities for sample 1000 / 1640\n",
      "[t-SNE] Computed conditional probabilities for sample 1640 / 1640\n",
      "[t-SNE] Mean sigma: 7.547247\n",
      "[t-SNE] KL divergence after 250 iterations with early exaggeration: 63.685009\n",
      "[t-SNE] Error after 300 iterations: 0.937344\n",
      "PCA20Kmeans5TSNE84\n",
      "[t-SNE] Computing 256 nearest neighbors...\n",
      "[t-SNE] Indexed 1640 samples in 0.001s...\n",
      "[t-SNE] Computed neighbors for 1640 samples in 0.414s...\n",
      "[t-SNE] Computed conditional probabilities for sample 1000 / 1640\n",
      "[t-SNE] Computed conditional probabilities for sample 1640 / 1640\n",
      "[t-SNE] Mean sigma: 7.567482\n",
      "[t-SNE] KL divergence after 250 iterations with early exaggeration: 62.998882\n",
      "[t-SNE] Error after 300 iterations: 0.893268\n",
      "PCA20Kmeans5TSNE85\n",
      "[t-SNE] Computing 259 nearest neighbors...\n",
      "[t-SNE] Indexed 1640 samples in 0.016s...\n",
      "[t-SNE] Computed neighbors for 1640 samples in 0.446s...\n",
      "[t-SNE] Computed conditional probabilities for sample 1000 / 1640\n",
      "[t-SNE] Computed conditional probabilities for sample 1640 / 1640\n",
      "[t-SNE] Mean sigma: 7.587480\n",
      "[t-SNE] KL divergence after 250 iterations with early exaggeration: 63.192223\n",
      "[t-SNE] Error after 300 iterations: 0.916337\n",
      "PCA20Kmeans5TSNE86\n",
      "[t-SNE] Computing 262 nearest neighbors...\n",
      "[t-SNE] Indexed 1640 samples in 0.004s...\n",
      "[t-SNE] Computed neighbors for 1640 samples in 0.430s...\n",
      "[t-SNE] Computed conditional probabilities for sample 1000 / 1640\n",
      "[t-SNE] Computed conditional probabilities for sample 1640 / 1640\n",
      "[t-SNE] Mean sigma: 7.607230\n",
      "[t-SNE] KL divergence after 250 iterations with early exaggeration: 61.439743\n",
      "[t-SNE] Error after 300 iterations: 0.822945\n",
      "PCA20Kmeans5TSNE87\n",
      "[t-SNE] Computing 265 nearest neighbors...\n",
      "[t-SNE] Indexed 1640 samples in 0.000s...\n",
      "[t-SNE] Computed neighbors for 1640 samples in 0.425s...\n",
      "[t-SNE] Computed conditional probabilities for sample 1000 / 1640\n",
      "[t-SNE] Computed conditional probabilities for sample 1640 / 1640\n",
      "[t-SNE] Mean sigma: 7.626757\n"
     ]
    },
    {
     "ename": "KeyboardInterrupt",
     "evalue": "",
     "output_type": "error",
     "traceback": [
      "\u001b[1;31m---------------------------------------------------------------------------\u001b[0m",
      "\u001b[1;31mKeyboardInterrupt\u001b[0m                         Traceback (most recent call last)",
      "\u001b[1;32m<ipython-input-27-f7599d6a1a91>\u001b[0m in \u001b[0;36m<module>\u001b[1;34m()\u001b[0m\n\u001b[0;32m      1\u001b[0m \u001b[1;32mfor\u001b[0m \u001b[0mi\u001b[0m \u001b[1;32min\u001b[0m \u001b[0mrange\u001b[0m\u001b[1;33m(\u001b[0m\u001b[1;36m75\u001b[0m\u001b[1;33m,\u001b[0m\u001b[1;36m100\u001b[0m\u001b[1;33m)\u001b[0m\u001b[1;33m:\u001b[0m\u001b[1;33m\u001b[0m\u001b[0m\n\u001b[1;32m----> 2\u001b[1;33m     \u001b[0mgenTSNE\u001b[0m\u001b[1;33m(\u001b[0m\u001b[0mi\u001b[0m\u001b[1;33m)\u001b[0m\u001b[1;33m\u001b[0m\u001b[0m\n\u001b[0m",
      "\u001b[1;32m<ipython-input-26-73e70d469879>\u001b[0m in \u001b[0;36mgenTSNE\u001b[1;34m(p)\u001b[0m\n\u001b[0;32m      1\u001b[0m \u001b[1;32mdef\u001b[0m \u001b[0mgenTSNE\u001b[0m\u001b[1;33m(\u001b[0m\u001b[0mp\u001b[0m\u001b[1;33m)\u001b[0m\u001b[1;33m:\u001b[0m\u001b[1;33m\u001b[0m\u001b[0m\n\u001b[0;32m      2\u001b[0m     \u001b[0mtsne\u001b[0m \u001b[1;33m=\u001b[0m \u001b[0mTSNE\u001b[0m\u001b[1;33m(\u001b[0m\u001b[0mn_components\u001b[0m\u001b[1;33m=\u001b[0m\u001b[1;36m2\u001b[0m\u001b[1;33m,\u001b[0m \u001b[0mverbose\u001b[0m\u001b[1;33m=\u001b[0m\u001b[1;36m1\u001b[0m\u001b[1;33m,\u001b[0m \u001b[0mperplexity\u001b[0m\u001b[1;33m=\u001b[0m\u001b[0mp\u001b[0m\u001b[1;33m,\u001b[0m \u001b[0mn_iter\u001b[0m\u001b[1;33m=\u001b[0m\u001b[1;36m300\u001b[0m\u001b[1;33m)\u001b[0m\u001b[1;33m\u001b[0m\u001b[0m\n\u001b[1;32m----> 3\u001b[1;33m     \u001b[0mtsne_results\u001b[0m \u001b[1;33m=\u001b[0m \u001b[0mtsne\u001b[0m\u001b[1;33m.\u001b[0m\u001b[0mfit_transform\u001b[0m\u001b[1;33m(\u001b[0m\u001b[0mX_pca\u001b[0m\u001b[1;33m)\u001b[0m\u001b[1;33m\u001b[0m\u001b[0m\n\u001b[0m\u001b[0;32m      4\u001b[0m     \u001b[0mplt\u001b[0m\u001b[1;33m.\u001b[0m\u001b[0mscatter\u001b[0m\u001b[1;33m(\u001b[0m\u001b[0mtsne_results\u001b[0m\u001b[1;33m[\u001b[0m\u001b[1;33m:\u001b[0m\u001b[1;33m,\u001b[0m\u001b[1;36m0\u001b[0m\u001b[1;33m]\u001b[0m\u001b[1;33m,\u001b[0m \u001b[0mtsne_results\u001b[0m\u001b[1;33m[\u001b[0m\u001b[1;33m:\u001b[0m\u001b[1;33m,\u001b[0m\u001b[1;36m1\u001b[0m\u001b[1;33m]\u001b[0m\u001b[1;33m,\u001b[0m \u001b[0malpha\u001b[0m\u001b[1;33m=\u001b[0m\u001b[1;36m0.6\u001b[0m\u001b[1;33m,\u001b[0m\u001b[0mc\u001b[0m\u001b[1;33m=\u001b[0m\u001b[0my_kmeans\u001b[0m\u001b[1;33m,\u001b[0m \u001b[0mcmap\u001b[0m\u001b[1;33m=\u001b[0m\u001b[1;34m'viridis'\u001b[0m\u001b[1;33m)\u001b[0m\u001b[1;33m\u001b[0m\u001b[0m\n\u001b[0;32m      5\u001b[0m     \u001b[0mname\u001b[0m \u001b[1;33m=\u001b[0m \u001b[1;34m'PCA'\u001b[0m\u001b[1;33m+\u001b[0m\u001b[0mstr\u001b[0m\u001b[1;33m(\u001b[0m\u001b[0mn\u001b[0m\u001b[1;33m)\u001b[0m\u001b[1;33m+\u001b[0m\u001b[1;34m'Kmeans'\u001b[0m\u001b[1;33m+\u001b[0m\u001b[0mstr\u001b[0m\u001b[1;33m(\u001b[0m\u001b[0mk\u001b[0m\u001b[1;33m)\u001b[0m\u001b[1;33m+\u001b[0m\u001b[1;34m'TSNE'\u001b[0m\u001b[1;33m+\u001b[0m\u001b[0mstr\u001b[0m\u001b[1;33m(\u001b[0m\u001b[0mp\u001b[0m\u001b[1;33m)\u001b[0m\u001b[1;33m\u001b[0m\u001b[0m\n",
      "\u001b[1;32m~\\Anaconda3.0\\lib\\site-packages\\sklearn\\manifold\\t_sne.py\u001b[0m in \u001b[0;36mfit_transform\u001b[1;34m(self, X, y)\u001b[0m\n\u001b[0;32m    856\u001b[0m             \u001b[0mEmbedding\u001b[0m \u001b[0mof\u001b[0m \u001b[0mthe\u001b[0m \u001b[0mtraining\u001b[0m \u001b[0mdata\u001b[0m \u001b[1;32min\u001b[0m \u001b[0mlow\u001b[0m\u001b[1;33m-\u001b[0m\u001b[0mdimensional\u001b[0m \u001b[0mspace\u001b[0m\u001b[1;33m.\u001b[0m\u001b[1;33m\u001b[0m\u001b[0m\n\u001b[0;32m    857\u001b[0m         \"\"\"\n\u001b[1;32m--> 858\u001b[1;33m         \u001b[0membedding\u001b[0m \u001b[1;33m=\u001b[0m \u001b[0mself\u001b[0m\u001b[1;33m.\u001b[0m\u001b[0m_fit\u001b[0m\u001b[1;33m(\u001b[0m\u001b[0mX\u001b[0m\u001b[1;33m)\u001b[0m\u001b[1;33m\u001b[0m\u001b[0m\n\u001b[0m\u001b[0;32m    859\u001b[0m         \u001b[0mself\u001b[0m\u001b[1;33m.\u001b[0m\u001b[0membedding_\u001b[0m \u001b[1;33m=\u001b[0m \u001b[0membedding\u001b[0m\u001b[1;33m\u001b[0m\u001b[0m\n\u001b[0;32m    860\u001b[0m         \u001b[1;32mreturn\u001b[0m \u001b[0mself\u001b[0m\u001b[1;33m.\u001b[0m\u001b[0membedding_\u001b[0m\u001b[1;33m\u001b[0m\u001b[0m\n",
      "\u001b[1;32m~\\Anaconda3.0\\lib\\site-packages\\sklearn\\manifold\\t_sne.py\u001b[0m in \u001b[0;36m_fit\u001b[1;34m(self, X, skip_num_points)\u001b[0m\n\u001b[0;32m    768\u001b[0m                           \u001b[0mX_embedded\u001b[0m\u001b[1;33m=\u001b[0m\u001b[0mX_embedded\u001b[0m\u001b[1;33m,\u001b[0m\u001b[1;33m\u001b[0m\u001b[0m\n\u001b[0;32m    769\u001b[0m                           \u001b[0mneighbors\u001b[0m\u001b[1;33m=\u001b[0m\u001b[0mneighbors_nn\u001b[0m\u001b[1;33m,\u001b[0m\u001b[1;33m\u001b[0m\u001b[0m\n\u001b[1;32m--> 770\u001b[1;33m                           skip_num_points=skip_num_points)\n\u001b[0m\u001b[0;32m    771\u001b[0m \u001b[1;33m\u001b[0m\u001b[0m\n\u001b[0;32m    772\u001b[0m     \u001b[1;33m@\u001b[0m\u001b[0mproperty\u001b[0m\u001b[1;33m\u001b[0m\u001b[0m\n",
      "\u001b[1;32m~\\Anaconda3.0\\lib\\site-packages\\sklearn\\manifold\\t_sne.py\u001b[0m in \u001b[0;36m_tsne\u001b[1;34m(self, P, degrees_of_freedom, n_samples, X_embedded, neighbors, skip_num_points)\u001b[0m\n\u001b[0;32m    810\u001b[0m         \u001b[0mP\u001b[0m \u001b[1;33m*=\u001b[0m \u001b[0mself\u001b[0m\u001b[1;33m.\u001b[0m\u001b[0mearly_exaggeration\u001b[0m\u001b[1;33m\u001b[0m\u001b[0m\n\u001b[0;32m    811\u001b[0m         params, kl_divergence, it = _gradient_descent(obj_func, params,\n\u001b[1;32m--> 812\u001b[1;33m                                                       **opt_args)\n\u001b[0m\u001b[0;32m    813\u001b[0m         \u001b[1;32mif\u001b[0m \u001b[0mself\u001b[0m\u001b[1;33m.\u001b[0m\u001b[0mverbose\u001b[0m\u001b[1;33m:\u001b[0m\u001b[1;33m\u001b[0m\u001b[0m\n\u001b[0;32m    814\u001b[0m             print(\"[t-SNE] KL divergence after %d iterations with early \"\n",
      "\u001b[1;32m~\\Anaconda3.0\\lib\\site-packages\\sklearn\\manifold\\t_sne.py\u001b[0m in \u001b[0;36m_gradient_descent\u001b[1;34m(objective, p0, it, n_iter, n_iter_check, n_iter_without_progress, momentum, learning_rate, min_gain, min_grad_norm, verbose, args, kwargs)\u001b[0m\n\u001b[0;32m    337\u001b[0m     \u001b[0mtic\u001b[0m \u001b[1;33m=\u001b[0m \u001b[0mtime\u001b[0m\u001b[1;33m(\u001b[0m\u001b[1;33m)\u001b[0m\u001b[1;33m\u001b[0m\u001b[0m\n\u001b[0;32m    338\u001b[0m     \u001b[1;32mfor\u001b[0m \u001b[0mi\u001b[0m \u001b[1;32min\u001b[0m \u001b[0mrange\u001b[0m\u001b[1;33m(\u001b[0m\u001b[0mit\u001b[0m\u001b[1;33m,\u001b[0m \u001b[0mn_iter\u001b[0m\u001b[1;33m)\u001b[0m\u001b[1;33m:\u001b[0m\u001b[1;33m\u001b[0m\u001b[0m\n\u001b[1;32m--> 339\u001b[1;33m         \u001b[0merror\u001b[0m\u001b[1;33m,\u001b[0m \u001b[0mgrad\u001b[0m \u001b[1;33m=\u001b[0m \u001b[0mobjective\u001b[0m\u001b[1;33m(\u001b[0m\u001b[0mp\u001b[0m\u001b[1;33m,\u001b[0m \u001b[1;33m*\u001b[0m\u001b[0margs\u001b[0m\u001b[1;33m,\u001b[0m \u001b[1;33m**\u001b[0m\u001b[0mkwargs\u001b[0m\u001b[1;33m)\u001b[0m\u001b[1;33m\u001b[0m\u001b[0m\n\u001b[0m\u001b[0;32m    340\u001b[0m         \u001b[0mgrad_norm\u001b[0m \u001b[1;33m=\u001b[0m \u001b[0mlinalg\u001b[0m\u001b[1;33m.\u001b[0m\u001b[0mnorm\u001b[0m\u001b[1;33m(\u001b[0m\u001b[0mgrad\u001b[0m\u001b[1;33m)\u001b[0m\u001b[1;33m\u001b[0m\u001b[0m\n\u001b[0;32m    341\u001b[0m \u001b[1;33m\u001b[0m\u001b[0m\n",
      "\u001b[1;32m~\\Anaconda3.0\\lib\\site-packages\\sklearn\\manifold\\t_sne.py\u001b[0m in \u001b[0;36m_kl_divergence_bh\u001b[1;34m(params, P, degrees_of_freedom, n_samples, n_components, angle, skip_num_points, verbose)\u001b[0m\n\u001b[0;32m    246\u001b[0m                                       \u001b[0mgrad\u001b[0m\u001b[1;33m,\u001b[0m \u001b[0mangle\u001b[0m\u001b[1;33m,\u001b[0m \u001b[0mn_components\u001b[0m\u001b[1;33m,\u001b[0m \u001b[0mverbose\u001b[0m\u001b[1;33m,\u001b[0m\u001b[1;33m\u001b[0m\u001b[0m\n\u001b[0;32m    247\u001b[0m                                       dof=degrees_of_freedom)\n\u001b[1;32m--> 248\u001b[1;33m     \u001b[0mc\u001b[0m \u001b[1;33m=\u001b[0m \u001b[1;36m2.0\u001b[0m \u001b[1;33m*\u001b[0m \u001b[1;33m(\u001b[0m\u001b[0mdegrees_of_freedom\u001b[0m \u001b[1;33m+\u001b[0m \u001b[1;36m1.0\u001b[0m\u001b[1;33m)\u001b[0m \u001b[1;33m/\u001b[0m \u001b[0mdegrees_of_freedom\u001b[0m\u001b[1;33m\u001b[0m\u001b[0m\n\u001b[0m\u001b[0;32m    249\u001b[0m     \u001b[0mgrad\u001b[0m \u001b[1;33m=\u001b[0m \u001b[0mgrad\u001b[0m\u001b[1;33m.\u001b[0m\u001b[0mravel\u001b[0m\u001b[1;33m(\u001b[0m\u001b[1;33m)\u001b[0m\u001b[1;33m\u001b[0m\u001b[0m\n\u001b[0;32m    250\u001b[0m     \u001b[0mgrad\u001b[0m \u001b[1;33m*=\u001b[0m \u001b[0mc\u001b[0m\u001b[1;33m\u001b[0m\u001b[0m\n",
      "\u001b[1;31mKeyboardInterrupt\u001b[0m: "
     ]
    }
   ],
   "source": [
    "# for i in range(75,100):\n",
    "#     genTSNE(i)\n"
   ]
  },
  {
   "cell_type": "code",
   "execution_count": null,
   "metadata": {},
   "outputs": [],
   "source": []
  }
 ],
 "metadata": {
  "kernelspec": {
   "display_name": "Python 3",
   "language": "python",
   "name": "python3"
  },
  "language_info": {
   "codemirror_mode": {
    "name": "ipython",
    "version": 3
   },
   "file_extension": ".py",
   "mimetype": "text/x-python",
   "name": "python",
   "nbconvert_exporter": "python",
   "pygments_lexer": "ipython3",
   "version": "3.6.4"
  }
 },
 "nbformat": 4,
 "nbformat_minor": 2
}
